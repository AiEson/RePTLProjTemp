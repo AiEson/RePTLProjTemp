{
 "cells": [
  {
   "cell_type": "code",
   "execution_count": null,
   "metadata": {},
   "outputs": [],
   "source": []
  },
  {
   "cell_type": "code",
   "execution_count": 2,
   "metadata": {},
   "outputs": [
    {
     "name": "stdout",
     "output_type": "stream",
     "text": [
      "/home/zhaobinguet/codes/datasets/WHU/train/image\n"
     ]
    },
    {
     "name": "stderr",
     "output_type": "stream",
     "text": [
      "100%|██████████| 4736/4736 [00:07<00:00, 672.77it/s]\n"
     ]
    },
    {
     "name": "stdout",
     "output_type": "stream",
     "text": [
      "/home/zhaobinguet/codes/datasets/WHU/train/label\n"
     ]
    },
    {
     "name": "stderr",
     "output_type": "stream",
     "text": [
      "100%|██████████| 4736/4736 [00:03<00:00, 1279.06it/s]\n"
     ]
    },
    {
     "name": "stdout",
     "output_type": "stream",
     "text": [
      "/home/zhaobinguet/codes/datasets/WHU/val/image\n"
     ]
    },
    {
     "name": "stderr",
     "output_type": "stream",
     "text": [
      "100%|██████████| 1036/1036 [00:01<00:00, 665.41it/s]\n"
     ]
    },
    {
     "name": "stdout",
     "output_type": "stream",
     "text": [
      "/home/zhaobinguet/codes/datasets/WHU/val/label\n"
     ]
    },
    {
     "name": "stderr",
     "output_type": "stream",
     "text": [
      "100%|██████████| 1036/1036 [00:00<00:00, 1408.03it/s]\n"
     ]
    },
    {
     "name": "stdout",
     "output_type": "stream",
     "text": [
      "/home/zhaobinguet/codes/datasets/WHU/test/image\n"
     ]
    },
    {
     "name": "stderr",
     "output_type": "stream",
     "text": [
      "100%|██████████| 2416/2416 [00:03<00:00, 692.15it/s]\n"
     ]
    },
    {
     "name": "stdout",
     "output_type": "stream",
     "text": [
      "/home/zhaobinguet/codes/datasets/WHU/test/label\n"
     ]
    },
    {
     "name": "stderr",
     "output_type": "stream",
     "text": [
      "100%|██████████| 2416/2416 [00:01<00:00, 1386.83it/s]\n"
     ]
    }
   ],
   "source": [
    "data_root = '/home/zhaobinguet/codes/datasets/WHU'\n",
    "folders = ['train', 'val', 'test']\n",
    "import os\n",
    "from tqdm import tqdm\n",
    "from PIL import Image\n",
    "# read tiff images, convert to jpg, save to jpg folder\n",
    "for folder in folders:\n",
    "    for s in ['image', 'label']:\n",
    "        path = os.path.join(data_root, folder, s)\n",
    "        print(path)\n",
    "        for f in tqdm(os.listdir(path)):\n",
    "            if f.endswith('.tif'):\n",
    "                filename = os.path.join(path, f)\n",
    "                # print(filename)\n",
    "                img = Image.open(filename)\n",
    "                img = img.convert('RGB')\n",
    "                img.save(filename.replace('.tif', '.jpg'))\n",
    "                os.remove(filename)"
   ]
  }
 ],
 "metadata": {
  "kernelspec": {
   "display_name": "wcs_torch113",
   "language": "python",
   "name": "python3"
  },
  "language_info": {
   "codemirror_mode": {
    "name": "ipython",
    "version": 3
   },
   "file_extension": ".py",
   "mimetype": "text/x-python",
   "name": "python",
   "nbconvert_exporter": "python",
   "pygments_lexer": "ipython3",
   "version": "3.10.8"
  },
  "orig_nbformat": 4
 },
 "nbformat": 4,
 "nbformat_minor": 2
}
