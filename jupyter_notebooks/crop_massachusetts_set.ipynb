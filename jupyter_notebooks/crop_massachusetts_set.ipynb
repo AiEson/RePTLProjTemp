{
 "cells": [
  {
   "cell_type": "code",
   "execution_count": 1,
   "metadata": {},
   "outputs": [],
   "source": [
    "import os\n",
    "import cv2"
   ]
  },
  {
   "cell_type": "code",
   "execution_count": 2,
   "metadata": {},
   "outputs": [],
   "source": [
    "# read files\n",
    "data_root = '/home/aieson/codes/datasets/Massachusetts'\n",
    "\n",
    "folders_names = ['train', 'test', 'val']\n",
    "cropped_root = '/home/aieson/codes/datasets/Massachusetts_cropped512'\n",
    "\n",
    "for folders_name in folders_names:\n",
    "    image_path = os.path.join(data_root, folders_name)\n",
    "    image_files = os.listdir(image_path)\n",
    "    label_path = os.path.join(data_root, folders_name + '_labels')\n",
    "    label_files = os.listdir(label_path)\n",
    "    \n",
    "    image_save_path = os.path.join(cropped_root, folders_name)\n",
    "    label_save_path = os.path.join(cropped_root, folders_name + '_labels')\n",
    "    \n",
    "    if not os.path.exists(image_save_path):\n",
    "        os.makedirs(image_save_path)\n",
    "    if not os.path.exists(label_save_path):\n",
    "        os.makedirs(label_save_path)\n",
    "    \n",
    "    # 首先resize到512 * 3, 然后再crop成512 * 512\n",
    "    for image_file, label_file in zip(image_files, label_files):\n",
    "        image = cv2.imread(os.path.join(image_path, image_file))\n",
    "        label = cv2.imread(os.path.join(label_path, label_file))\n",
    "        \n",
    "        # resize\n",
    "        image = cv2.resize(image, (512 * 3, 512 * 3))\n",
    "        label = cv2.resize(label, (512 * 3, 512 * 3))\n",
    "        \n",
    "        \n",
    "        \n",
    "        # crop\n",
    "        for i in range(3):\n",
    "            for j in range(3):\n",
    "                image_crop = image[i * 512 : (i + 1) * 512, j * 512 : (j + 1) * 512]\n",
    "                label_crop = label[i * 512 : (i + 1) * 512, j * 512 : (j + 1) * 512]\n",
    "                \n",
    "                # save\n",
    "                cv2.imwrite(os.path.join(image_save_path, image_file[:-4] + '_' + str(i) + str(j) + '.png'), image_crop)\n",
    "                cv2.imwrite(os.path.join(label_save_path, label_file[:-4] + '_' + str(i) + str(j) + '.png'), label_crop)\n",
    "                 \n",
    "                \n",
    "        "
   ]
  }
 ],
 "metadata": {
  "kernelspec": {
   "display_name": "torch113",
   "language": "python",
   "name": "python3"
  },
  "language_info": {
   "codemirror_mode": {
    "name": "ipython",
    "version": 3
   },
   "file_extension": ".py",
   "mimetype": "text/x-python",
   "name": "python",
   "nbconvert_exporter": "python",
   "pygments_lexer": "ipython3",
   "version": "3.10.9"
  },
  "orig_nbformat": 4
 },
 "nbformat": 4,
 "nbformat_minor": 2
}
